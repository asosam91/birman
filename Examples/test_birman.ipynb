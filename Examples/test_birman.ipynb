{
  "nbformat": 4,
  "nbformat_minor": 0,
  "metadata": {
    "colab": {
      "name": "test birman.ipynb",
      "version": "0.3.2",
      "provenance": [],
      "include_colab_link": true
    },
    "kernelspec": {
      "name": "python3",
      "display_name": "Python 3"
    }
  },
  "cells": [
    {
      "cell_type": "markdown",
      "metadata": {
        "id": "view-in-github",
        "colab_type": "text"
      },
      "source": [
        "<a href=\"https://colab.research.google.com/github/asosam91/birman/blob/master/Examples/test_birman.ipynb\" target=\"_parent\"><img src=\"https://colab.research.google.com/assets/colab-badge.svg\" alt=\"Open In Colab\"/></a>"
      ]
    },
    {
      "metadata": {
        "id": "3HPMuRuKEioA",
        "colab_type": "code",
        "colab": {
          "base_uri": "https://localhost:8080/",
          "height": 156
        },
        "outputId": "6ab33f62-9049-4445-d39b-fa74aef854e5"
      },
      "cell_type": "code",
      "source": [
        "!pip install git+https://github.com/asosam91/birman/\n"
      ],
      "execution_count": 1,
      "outputs": [
        {
          "output_type": "stream",
          "text": [
            "Collecting git+https://github.com/asosam91/birman/\n",
            "  Cloning https://github.com/asosam91/birman/ to /tmp/pip-req-build-3vzjcsac\n",
            "Requirement already satisfied (use --upgrade to upgrade): birman==0.0.1 from git+https://github.com/asosam91/birman/ in /usr/local/lib/python3.6/dist-packages\n",
            "Building wheels for collected packages: birman\n",
            "  Building wheel for birman (setup.py) ... \u001b[?25ldone\n",
            "\u001b[?25h  Stored in directory: /tmp/pip-ephem-wheel-cache-va_78mus/wheels/f2/55/40/078f4e16b1b6d969197ceb19cf1836ce835e0aeeb169fc236d\n",
            "Successfully built birman\n"
          ],
          "name": "stdout"
        }
      ]
    },
    {
      "metadata": {
        "id": "FJviXOOPSdJI",
        "colab_type": "code",
        "colab": {}
      },
      "cell_type": "code",
      "source": [
        "#from . import *\n",
        "#from birman import *\n",
        "from birman.Grafo import *\n",
        "from birman.Mensaje import *"
      ],
      "execution_count": 0,
      "outputs": []
    },
    {
      "metadata": {
        "id": "lepadndGFHzP",
        "colab_type": "code",
        "colab": {}
      },
      "cell_type": "code",
      "source": [
        "a = Grafo(5)\n",
        "m = Mensaje(2,a.getProcesos())\n",
        "mensaje = [0,0,1,0,0]\n",
        "m.setMensaje(mensaje)\n",
        "\n"
      ],
      "execution_count": 0,
      "outputs": []
    },
    {
      "metadata": {
        "id": "ZzAY8WTNGZpu",
        "colab_type": "code",
        "colab": {
          "base_uri": "https://localhost:8080/",
          "height": 102
        },
        "outputId": "ca1232ec-d29d-48d9-d22c-a3598dc6e624"
      },
      "cell_type": "code",
      "source": [
        "a.__str__()"
      ],
      "execution_count": 11,
      "outputs": [
        {
          "output_type": "execute_result",
          "data": {
            "text/plain": [
              "array([[0., 0., 0., 0., 0.],\n",
              "       [0., 0., 0., 0., 0.],\n",
              "       [0., 0., 0., 0., 0.],\n",
              "       [0., 0., 0., 0., 0.],\n",
              "       [0., 0., 0., 0., 0.]])"
            ]
          },
          "metadata": {
            "tags": []
          },
          "execution_count": 11
        }
      ]
    },
    {
      "metadata": {
        "id": "4brRDakUHG8L",
        "colab_type": "code",
        "colab": {
          "base_uri": "https://localhost:8080/",
          "height": 34
        },
        "outputId": "ed611b67-b3eb-4b97-fdd1-c1113ce3950b"
      },
      "cell_type": "code",
      "source": [
        "type(m.__str__()[0])"
      ],
      "execution_count": 15,
      "outputs": [
        {
          "output_type": "execute_result",
          "data": {
            "text/plain": [
              "int"
            ]
          },
          "metadata": {
            "tags": []
          },
          "execution_count": 15
        }
      ]
    },
    {
      "metadata": {
        "id": "4YZITXUkHPlq",
        "colab_type": "code",
        "colab": {}
      },
      "cell_type": "code",
      "source": [
        "for p in range(len(b)):\n",
        "  if a[p]< b[p]:\n",
        "    a[p] = b[p]\n",
        "\n"
      ],
      "execution_count": 0,
      "outputs": []
    },
    {
      "metadata": {
        "id": "DoVKYTazIWqI",
        "colab_type": "code",
        "colab": {}
      },
      "cell_type": "code",
      "source": [
        "print (a)"
      ],
      "execution_count": 0,
      "outputs": []
    }
  ]
}